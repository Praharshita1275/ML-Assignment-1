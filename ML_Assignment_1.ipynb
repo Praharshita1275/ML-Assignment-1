{
  "nbformat": 4,
  "nbformat_minor": 0,
  "metadata": {
    "colab": {
      "provenance": [],
      "authorship_tag": "ABX9TyNi8BNKlY72WWzzU7P1nFzR",
      "include_colab_link": true
    },
    "kernelspec": {
      "name": "python3",
      "display_name": "Python 3"
    },
    "language_info": {
      "name": "python"
    }
  },
  "cells": [
    {
      "cell_type": "markdown",
      "metadata": {
        "id": "view-in-github",
        "colab_type": "text"
      },
      "source": [
        "<a href=\"https://colab.research.google.com/github/Praharshita1275/ML-Assignment-1/blob/main/ML_Assignment_1.ipynb\" target=\"_parent\"><img src=\"https://colab.research.google.com/assets/colab-badge.svg\" alt=\"Open In Colab\"/></a>"
      ]
    },
    {
      "cell_type": "markdown",
      "source": [
        "# 1. Regression"
      ],
      "metadata": {
        "id": "DDdqQMOVdNkU"
      }
    },
    {
      "cell_type": "code",
      "execution_count": null,
      "metadata": {
        "id": "QtYW6py6c9EX"
      },
      "outputs": [],
      "source": [
        "#For this exercise, you will experiment with regression, regularization, and cross-validation. Choose appropriate Dataset.\n"
      ]
    },
    {
      "cell_type": "markdown",
      "source": [
        "Dataset choosen:"
      ],
      "metadata": {
        "id": "lQbEgHKhddOA"
      }
    },
    {
      "cell_type": "code",
      "source": [
        "#(a) Load the data into memory. Make an appropriate X matrix and y vector.\n"
      ],
      "metadata": {
        "id": "lxoSahs7dgt2"
      },
      "execution_count": null,
      "outputs": []
    }
  ]
}